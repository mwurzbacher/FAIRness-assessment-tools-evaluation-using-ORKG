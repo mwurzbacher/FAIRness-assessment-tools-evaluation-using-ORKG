{
 "cells": [
  {
   "cell_type": "code",
   "execution_count": 118,
   "metadata": {},
   "outputs": [],
   "source": [
    "import re\n",
    "import json\n",
    "import numpy as np\n",
    "import pandas as pd\n",
    "import matplotlib.pyplot as plt\n",
    "from itertools import chain"
   ]
  },
  {
   "cell_type": "code",
   "execution_count": 34,
   "metadata": {},
   "outputs": [],
   "source": [
    "def build_assessment_json(assessment):\n",
    "    regex_result = re.findall(\"'metric': '.*?', 'score': '.*?'\", assessment)\n",
    "    assessment_list = []\n",
    "    for result in regex_result:\n",
    "        result = result.replace(\"\\'\", \"\\\"\")\n",
    "        assessment_dict = json.loads(\"{\"+result+\"}\")\n",
    "        assessment_list.append(assessment_dict)\n",
    "    return assessment_list"
   ]
  },
  {
   "cell_type": "code",
   "execution_count": 35,
   "metadata": {},
   "outputs": [],
   "source": [
    "def get_metrics_from_result(assessment_result):\n",
    "    return [item.get('metric') for item in assessment_result]\n",
    "\n",
    "def get_scores_from_result(assessment_result):\n",
    "    return [int(item.get('score')) for item in assessment_result]"
   ]
  },
  {
   "cell_type": "code",
   "execution_count": 128,
   "metadata": {},
   "outputs": [],
   "source": [
    "def get_principle_from_metric_fairchecker(metric):\n",
    "    if metric.startswith('F'):\n",
    "        return 'findable'\n",
    "    elif metric.startswith('A'):\n",
    "        return 'accessible'\n",
    "    elif metric.startswith('I'):\n",
    "        return 'interoperable'\n",
    "    else:\n",
    "        return 'reusable'"
   ]
  },
  {
   "cell_type": "code",
   "execution_count": 135,
   "metadata": {},
   "outputs": [],
   "source": [
    "def get_principle_from_metric_fuji(metric):\n",
    "    if metric.startswith(\"FsF-F\"):\n",
    "        return \"findable\"\n",
    "    elif metric.startswith(\"FsF-A\"):\n",
    "        return \"accessible\"\n",
    "    elif metric.startswith(\"FsF-I\"):\n",
    "        return \"interoperable\"\n",
    "    else:\n",
    "        return \"reusable\""
   ]
  },
  {
   "cell_type": "code",
   "execution_count": 74,
   "metadata": {},
   "outputs": [],
   "source": [
    "def expand_fcheck_df(df):\n",
    "    df_exp = pd.DataFrame()\n",
    "    df_exp[\"comparison\"] = list(chain.from_iterable([[x]*11 for x in df[\"comparisons\"]]))\n",
    "    df_exp[\"doi\"] = list(chain.from_iterable([[x]*11 for x in df[\"doi\"]]))\n",
    "    df_exp[\"metric\"] = list(chain.from_iterable([get_metrics_from_result(assessment_result=x) for x in df[\"FAIR_assessment\"]]))\n",
    "    df_exp[\"score_earned\"] = list(chain.from_iterable([get_scores_from_result(assessment_result=x) for x in df[\"FAIR_assessment\"]]))\n",
    "    df_exp[\"score_total\"] = list(chain.from_iterable([[2]*11 for x in df[\"comparisons\"]]))\n",
    "    return df_exp"
   ]
  },
  {
   "attachments": {},
   "cell_type": "markdown",
   "metadata": {},
   "source": [
    "# Comparing comparisons assessments"
   ]
  },
  {
   "cell_type": "code",
   "execution_count": 130,
   "metadata": {},
   "outputs": [],
   "source": [
    "fcheck_comp_doi_df = pd.read_csv(\"assessed_data/comparison_doi_df_FAIRChecker_assessment2023-03-29.csv\", index_col=0)\n",
    "fcheck_comp_url_df = pd.read_csv(\"assessed_data/comparison_orkg_df_FAIRChecker_assessment2023-03-29.csv\", index_col=0)"
   ]
  },
  {
   "cell_type": "code",
   "execution_count": 131,
   "metadata": {},
   "outputs": [
    {
     "name": "stdout",
     "output_type": "stream",
     "text": [
      "200    294\n",
      "Name: assessment_status_code, dtype: int64\n",
      "200    975\n",
      "500    173\n",
      "504      1\n",
      "Name: assessment_status_code, dtype: int64\n"
     ]
    }
   ],
   "source": [
    "print(fcheck_comp_doi_df[\"assessment_status_code\"].value_counts())\n",
    "print(fcheck_comp_url_df[\"assessment_status_code\"].value_counts())\n",
    "fcheck_comp_url_df = fcheck_comp_url_df[fcheck_comp_url_df[\"assessment_status_code\"]==200].reset_index(drop=True)"
   ]
  },
  {
   "cell_type": "code",
   "execution_count": 132,
   "metadata": {},
   "outputs": [],
   "source": [
    "fcheck_comp_doi_df = fcheck_comp_doi_df.drop(labels=[\"assessment_status_code\"], axis=1)\n",
    "fcheck_comp_doi_df[\"FAIR_assessment\"] = fcheck_comp_doi_df[\"FAIR_assessment\"].map(lambda x: build_assessment_json(x))\n",
    "fcheck_comp_doi_df = expand_fcheck_df(fcheck_comp_doi_df)\n",
    "fcheck_comp_doi_df[\"score_percent\"] = fcheck_comp_doi_df.apply(lambda x: x[\"score_earned\"]/x[\"score_total\"], axis=1)\n",
    "fcheck_comp_url_df = fcheck_comp_url_df.drop(labels=[\"assessment_status_code\"], axis=1)\n",
    "fcheck_comp_url_df[\"FAIR_assessment\"] = fcheck_comp_url_df[\"FAIR_assessment\"].map(lambda x: build_assessment_json(x))\n",
    "fcheck_comp_url_df = expand_fcheck_df(fcheck_comp_url_df)\n",
    "fcheck_comp_url_df[\"score_percent\"] = fcheck_comp_url_df.apply(lambda x: x[\"score_earned\"]/x[\"score_total\"], axis=1)"
   ]
  },
  {
   "cell_type": "code",
   "execution_count": 133,
   "metadata": {},
   "outputs": [],
   "source": [
    "fcheck_comp_doi_df_principle = fcheck_comp_doi_df\n",
    "fcheck_comp_doi_df_principle[\"principle\"] = fcheck_comp_doi_df_principle[\"metric\"].map(lambda x: get_principle_from_metric_fairchecker(x))\n",
    "fcheck_comp_doi_df_principle = fcheck_comp_doi_df_principle.groupby(\"principle\").agg({\"score_earned\": \"mean\", \"score_total\": \"mean\"}).reset_index()\n",
    "fcheck_comp_doi_df_principle[\"score_percent\"] = fcheck_comp_doi_df_principle.apply(lambda x: x[\"score_earned\"]/x[\"score_total\"], axis=1)\n",
    "fcheck_comp_doi_df_principle['principle'] = pd.Categorical(fcheck_comp_doi_df_principle['principle'], ['findable', 'accessible', 'interoperable', 'reusable'])\n",
    "fcheck_comp_doi_df_principle = fcheck_comp_doi_df_principle.sort_values('principle')\n",
    "fcheck_comp_url_df_principle = fcheck_comp_url_df\n",
    "fcheck_comp_url_df_principle[\"principle\"] = fcheck_comp_url_df_principle[\"metric\"].map(lambda x: get_principle_from_metric_fairchecker(x))\n",
    "fcheck_comp_url_df_principle = fcheck_comp_url_df_principle.groupby(\"principle\").agg({\"score_earned\": \"mean\", \"score_total\": \"mean\"}).reset_index()\n",
    "fcheck_comp_url_df_principle[\"score_percent\"] = fcheck_comp_url_df_principle.apply(lambda x: x[\"score_earned\"]/x[\"score_total\"], axis=1)\n",
    "fcheck_comp_url_df_principle['principle'] = pd.Categorical(fcheck_comp_url_df_principle['principle'], ['findable', 'accessible', 'interoperable', 'reusable'])\n",
    "fcheck_comp_url_df_principle = fcheck_comp_url_df_principle.sort_values('principle')"
   ]
  },
  {
   "attachments": {},
   "cell_type": "markdown",
   "metadata": {},
   "source": [
    "____________________________________________________"
   ]
  },
  {
   "cell_type": "code",
   "execution_count": 134,
   "metadata": {},
   "outputs": [],
   "source": [
    "fuji_comp_doi_df = pd.read_csv(\"assessed_data/comparison_doi_df_F-UJI_assessment.csv\", index_col=0)\n",
    "fuji_comp_url_df = pd.read_csv(\"assessed_data/comparison_url_df_F-UJI_assessment.csv\", index_col=0)"
   ]
  },
  {
   "cell_type": "code",
   "execution_count": 127,
   "metadata": {},
   "outputs": [
    {
     "data": {
      "text/html": [
       "<div>\n",
       "<style scoped>\n",
       "    .dataframe tbody tr th:only-of-type {\n",
       "        vertical-align: middle;\n",
       "    }\n",
       "\n",
       "    .dataframe tbody tr th {\n",
       "        vertical-align: top;\n",
       "    }\n",
       "\n",
       "    .dataframe thead th {\n",
       "        text-align: right;\n",
       "    }\n",
       "</style>\n",
       "<table border=\"1\" class=\"dataframe\">\n",
       "  <thead>\n",
       "    <tr style=\"text-align: right;\">\n",
       "      <th></th>\n",
       "      <th>comparison</th>\n",
       "      <th>doi</th>\n",
       "      <th>metric</th>\n",
       "      <th>score_earned</th>\n",
       "      <th>score_total</th>\n",
       "    </tr>\n",
       "  </thead>\n",
       "  <tbody>\n",
       "    <tr>\n",
       "      <th>0</th>\n",
       "      <td>http://orkg.org/orkg/resource/R140347</td>\n",
       "      <td>10.48366/r140347</td>\n",
       "      <td>FsF-F1-01D</td>\n",
       "      <td>1</td>\n",
       "      <td>1</td>\n",
       "    </tr>\n",
       "    <tr>\n",
       "      <th>1</th>\n",
       "      <td>http://orkg.org/orkg/resource/R140347</td>\n",
       "      <td>10.48366/r140347</td>\n",
       "      <td>FsF-F1-02D</td>\n",
       "      <td>1</td>\n",
       "      <td>1</td>\n",
       "    </tr>\n",
       "    <tr>\n",
       "      <th>2</th>\n",
       "      <td>http://orkg.org/orkg/resource/R140347</td>\n",
       "      <td>10.48366/r140347</td>\n",
       "      <td>FsF-F2-01M</td>\n",
       "      <td>2</td>\n",
       "      <td>2</td>\n",
       "    </tr>\n",
       "    <tr>\n",
       "      <th>3</th>\n",
       "      <td>http://orkg.org/orkg/resource/R140347</td>\n",
       "      <td>10.48366/r140347</td>\n",
       "      <td>FsF-F3-01M</td>\n",
       "      <td>0</td>\n",
       "      <td>1</td>\n",
       "    </tr>\n",
       "    <tr>\n",
       "      <th>4</th>\n",
       "      <td>http://orkg.org/orkg/resource/R140347</td>\n",
       "      <td>10.48366/r140347</td>\n",
       "      <td>FsF-F4-01M</td>\n",
       "      <td>2</td>\n",
       "      <td>2</td>\n",
       "    </tr>\n",
       "    <tr>\n",
       "      <th>...</th>\n",
       "      <td>...</td>\n",
       "      <td>...</td>\n",
       "      <td>...</td>\n",
       "      <td>...</td>\n",
       "      <td>...</td>\n",
       "    </tr>\n",
       "    <tr>\n",
       "      <th>4699</th>\n",
       "      <td>http://orkg.org/orkg/resource/R576876</td>\n",
       "      <td>10.48366/r576876</td>\n",
       "      <td>FsF-R1.2-01M</td>\n",
       "      <td>1</td>\n",
       "      <td>2</td>\n",
       "    </tr>\n",
       "    <tr>\n",
       "      <th>4700</th>\n",
       "      <td>http://orkg.org/orkg/resource/R576876</td>\n",
       "      <td>10.48366/r576876</td>\n",
       "      <td>FsF-R1.3-01M</td>\n",
       "      <td>0</td>\n",
       "      <td>1</td>\n",
       "    </tr>\n",
       "    <tr>\n",
       "      <th>4701</th>\n",
       "      <td>http://orkg.org/orkg/resource/R576876</td>\n",
       "      <td>10.48366/r576876</td>\n",
       "      <td>FsF-R1.3-02D</td>\n",
       "      <td>0</td>\n",
       "      <td>1</td>\n",
       "    </tr>\n",
       "    <tr>\n",
       "      <th>4702</th>\n",
       "      <td>http://orkg.org/orkg/resource/R576876</td>\n",
       "      <td>10.48366/r576876</td>\n",
       "      <td>FsF-A1-03D</td>\n",
       "      <td>0</td>\n",
       "      <td>1</td>\n",
       "    </tr>\n",
       "    <tr>\n",
       "      <th>4703</th>\n",
       "      <td>http://orkg.org/orkg/resource/R576876</td>\n",
       "      <td>10.48366/r576876</td>\n",
       "      <td>FsF-A1-02M</td>\n",
       "      <td>1</td>\n",
       "      <td>1</td>\n",
       "    </tr>\n",
       "  </tbody>\n",
       "</table>\n",
       "<p>4704 rows × 5 columns</p>\n",
       "</div>"
      ],
      "text/plain": [
       "                                 comparison               doi        metric  \\\n",
       "0     http://orkg.org/orkg/resource/R140347  10.48366/r140347    FsF-F1-01D   \n",
       "1     http://orkg.org/orkg/resource/R140347  10.48366/r140347    FsF-F1-02D   \n",
       "2     http://orkg.org/orkg/resource/R140347  10.48366/r140347    FsF-F2-01M   \n",
       "3     http://orkg.org/orkg/resource/R140347  10.48366/r140347    FsF-F3-01M   \n",
       "4     http://orkg.org/orkg/resource/R140347  10.48366/r140347    FsF-F4-01M   \n",
       "...                                     ...               ...           ...   \n",
       "4699  http://orkg.org/orkg/resource/R576876  10.48366/r576876  FsF-R1.2-01M   \n",
       "4700  http://orkg.org/orkg/resource/R576876  10.48366/r576876  FsF-R1.3-01M   \n",
       "4701  http://orkg.org/orkg/resource/R576876  10.48366/r576876  FsF-R1.3-02D   \n",
       "4702  http://orkg.org/orkg/resource/R576876  10.48366/r576876    FsF-A1-03D   \n",
       "4703  http://orkg.org/orkg/resource/R576876  10.48366/r576876    FsF-A1-02M   \n",
       "\n",
       "      score_earned  score_total  \n",
       "0                1            1  \n",
       "1                1            1  \n",
       "2                2            2  \n",
       "3                0            1  \n",
       "4                2            2  \n",
       "...            ...          ...  \n",
       "4699             1            2  \n",
       "4700             0            1  \n",
       "4701             0            1  \n",
       "4702             0            1  \n",
       "4703             1            1  \n",
       "\n",
       "[4704 rows x 5 columns]"
      ]
     },
     "execution_count": 127,
     "metadata": {},
     "output_type": "execute_result"
    }
   ],
   "source": [
    "fuji_comp_doi_df"
   ]
  },
  {
   "cell_type": "code",
   "execution_count": 136,
   "metadata": {},
   "outputs": [],
   "source": [
    "fuji_comp_doi_df_principle = fuji_comp_doi_df\n",
    "fuji_comp_doi_df_principle[\"principle\"] = fuji_comp_doi_df_principle[\"metric\"].map(lambda x: get_principle_from_metric_fuji(x))\n",
    "fuji_comp_doi_df_principle = fuji_comp_doi_df_principle.groupby(\"principle\").agg({\"score_earned\": \"mean\", \"score_total\": \"mean\"}).reset_index()\n",
    "fuji_comp_doi_df_principle[\"score_percent\"] = fuji_comp_doi_df_principle.apply(lambda x: x[\"score_earned\"]/x[\"score_total\"], axis=1)\n",
    "fuji_comp_doi_df_principle['principle'] = pd.Categorical(fuji_comp_doi_df_principle['principle'], ['findable', 'accessible', 'interoperable', 'reusable'])\n",
    "fuji_comp_doi_df_principle = fuji_comp_doi_df_principle.sort_values('principle')\n",
    "fuji_comp_url_df_principle = fuji_comp_url_df\n",
    "fuji_comp_url_df_principle[\"principle\"] = fuji_comp_url_df_principle[\"metric\"].map(lambda x: get_principle_from_metric_fuji(x))\n",
    "fuji_comp_url_df_principle = fuji_comp_url_df_principle.groupby(\"principle\").agg({\"score_earned\": \"mean\", \"score_total\": \"mean\"}).reset_index()\n",
    "fuji_comp_url_df_principle[\"score_percent\"] = fuji_comp_url_df_principle.apply(lambda x: x[\"score_earned\"]/x[\"score_total\"], axis=1)\n",
    "fuji_comp_url_df_principle['principle'] = pd.Categorical(fuji_comp_url_df_principle['principle'], ['findable', 'accessible', 'interoperable', 'reusable'])\n",
    "fuji_comp_url_df_principle = fuji_comp_url_df_principle.sort_values('principle')"
   ]
  },
  {
   "attachments": {},
   "cell_type": "markdown",
   "metadata": {},
   "source": [
    "________________________________________________________"
   ]
  },
  {
   "attachments": {},
   "cell_type": "markdown",
   "metadata": {},
   "source": [
    "# A plot comparing the total FAIRness score across all evaluated assessment tools considering DOI and ORKG resource URL assessment"
   ]
  },
  {
   "cell_type": "code",
   "execution_count": null,
   "metadata": {},
   "outputs": [],
   "source": [
    "# Total FAIRness score for DOI & ORKG URL per evaluated Tool"
   ]
  },
  {
   "attachments": {},
   "cell_type": "markdown",
   "metadata": {},
   "source": [
    "# A plot comparing the FAIRness scores for the FAIR principles across all evaluated assessment tools considering DOI and ORKG resource URL assessment"
   ]
  },
  {
   "cell_type": "code",
   "execution_count": 184,
   "metadata": {},
   "outputs": [
    {
     "data": {
      "image/png": "[encoded data removed]",
      "text/plain": [
       "<Figure size 1700x600 with 2 Axes>"
      ]
     },
     "metadata": {},
     "output_type": "display_data"
    }
   ],
   "source": [
    "principles = (\"findable\", \"accessible\", \"interoperable\", \"reusable\")\n",
    "fairscores_doi = {\n",
    "    \"FAIR-Checker\": tuple(fcheck_comp_doi_df_principle[\"score_percent\"].round(decimals=2)),\n",
    "    \"F-UJI\": tuple(fuji_comp_doi_df_principle[\"score_percent\"].round(decimals=2))\n",
    "}\n",
    "fairscores_url = {\n",
    "    \"FAIR-Checker\": tuple(fcheck_comp_url_df_principle[\"score_percent\"].round(decimals=2)),\n",
    "    \"F-UJI\": tuple(fuji_comp_url_df_principle[\"score_percent\"].round(decimals=2))\n",
    "}\n",
    "\n",
    "x = np.arange(len(principles))\n",
    "width = 0.25\n",
    "multiplier = 0\n",
    "\n",
    "fig, ax = plt.subplots(1,2, sharey=True, figsize=(17, 6))\n",
    "for attribute, measurement in fairscores_doi.items():\n",
    "    offset = width * multiplier\n",
    "    rects = ax[0].bar(x + offset, measurement, width, label=attribute)\n",
    "    ax[0].bar_label(rects, padding=3)\n",
    "    multiplier += 1\n",
    "\n",
    "multiplier = 0\n",
    "for attribute, measurement in fairscores_url.items():\n",
    "    offset = width * multiplier\n",
    "    rects = ax[1].bar(x + offset, measurement, width, label=attribute)\n",
    "    ax[1].bar_label(rects, padding=3)\n",
    "    multiplier += 1\n",
    "\n",
    "ax[0].set_xticks(x + width, principles)\n",
    "ax[0].set_ylim(0, 1.19)\n",
    "ax[0].title.set_text(\"DOI assessment\")\n",
    "ax[1].set_xticks(x + width, principles)\n",
    "ax[1].title.set_text(\"ORKG resource URL assessment\")\n",
    "\n",
    "handles, labels = ax[0].get_legend_handles_labels()\n",
    "fig.legend(handles, labels, loc=\"upper left\")\n",
    "fig.supylabel(\"FAIRness score (%)\")\n",
    "fig.supxlabel(\"FAIRness principle\")\n",
    "fig.suptitle(\"FAIRness score per FAIR principle per assessment tool\", fontsize=\"x-large\")\n",
    "plt.show()"
   ]
  }
 ],
 "metadata": {
  "kernelspec": {
   "display_name": "fairenv",
   "language": "python",
   "name": "python3"
  },
  "language_info": {
   "codemirror_mode": {
    "name": "ipython",
    "version": 3
   },
   "file_extension": ".py",
   "mimetype": "text/x-python",
   "name": "python",
   "nbconvert_exporter": "python",
   "pygments_lexer": "ipython3",
   "version": "3.8.16"
  },
  "orig_nbformat": 4
 },
 "nbformat": 4,
 "nbformat_minor": 2
}
