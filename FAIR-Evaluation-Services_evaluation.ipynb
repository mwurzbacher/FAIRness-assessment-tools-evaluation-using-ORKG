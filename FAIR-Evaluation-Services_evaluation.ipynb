{
 "cells": [
  {
   "cell_type": "code",
   "execution_count": 1,
   "metadata": {},
   "outputs": [],
   "source": [
    "import requests\n",
    "import json\n",
    "import re\n",
    "import pandas as pd\n",
    "import numpy as np\n",
    "from itertools import chain\n",
    "from matplotlib import pyplot as plt"
   ]
  },
  {
   "cell_type": "code",
   "execution_count": 2,
   "metadata": {},
   "outputs": [],
   "source": [
    "def get_assessment(url):\n",
    "    global count\n",
    "    print(count)\n",
    "    print(url)\n",
    "\n",
    "    fes_collection_api = \"https://w3id.org/FAIR_Evaluator/collections/6/evaluate\"\n",
    "\n",
    "    headers = {\n",
    "        \"Content-Type\": \"application/json\",\n",
    "        \"Accept\": \"application/json\"\n",
    "    }\n",
    "\n",
    "    payload = {\n",
    "        \"resource\": url,\n",
    "        \"executor\": \"mwurzb\",\n",
    "        \"title\": \"comp_doi_test\"\n",
    "    }\n",
    "\n",
    "    response = requests.post(fes_collection_api, headers=headers, json=payload)\n",
    "    response_json = response.json()\n",
    "    eval_result = json.loads(response_json.get(\"evaluationResult\"))\n",
    "    count = count + 1\n",
    "    print(\"_________________________\")\n",
    "    return eval_result"
   ]
  },
  {
   "cell_type": "code",
   "execution_count": 3,
   "metadata": {},
   "outputs": [],
   "source": [
    "def get_metricurl(url):\n",
    "    headers = {\n",
    "        \"Content-Type\": \"application/json\",\n",
    "        \"Accept\": \"application/json\"\n",
    "    }\n",
    "\n",
    "    response = requests.get(url=url, headers=headers)\n",
    "    return response"
   ]
  },
  {
   "cell_type": "code",
   "execution_count": 4,
   "metadata": {},
   "outputs": [],
   "source": [
    "def get_metrics_and_scores(eval_result):\n",
    "    eval_result_keys = eval_result.keys()\n",
    "    results = []\n",
    "    metrics = []\n",
    "    for k in eval_result_keys:\n",
    "        metric_url = get_metricurl(k).json().get(\"test_of_metric\")\n",
    "        metric_abbrev = re.search(r'(?<=Gen2_FM_).*$', metric_url)\n",
    "        metric = metric_abbrev.group()\n",
    "        if metric in metrics:\n",
    "            metric = metric + \"b\"\n",
    "        else:\n",
    "            metrics.append(metric)\n",
    "            metric = metric + \"a\"\n",
    "\n",
    "        eval_result_val = eval_result.get(k)\n",
    "        key = \"http://semanticscience.org/resource/SIO_000300\"\n",
    "        metric_score = int(eval_result_val[0][key][0][\"@value\"])\n",
    "\n",
    "        results.append(\n",
    "            {\n",
    "                \"metric\": metric,\n",
    "                \"score\": metric_score\n",
    "            }\n",
    "        )\n",
    "    return results"
   ]
  },
  {
   "cell_type": "code",
   "execution_count": 5,
   "metadata": {},
   "outputs": [],
   "source": [
    "def get_metrics_from_result(assessment_result):\n",
    "    return [item.get('metric') for item in assessment_result]\n",
    "\n",
    "def get_scores_from_result(assessment_result):\n",
    "    return [int(item.get('score')) for item in assessment_result]"
   ]
  },
  {
   "cell_type": "code",
   "execution_count": 6,
   "metadata": {},
   "outputs": [],
   "source": [
    "def print_summary_stats(scores):\n",
    "    print(\"Mean: \"+str(scores.mean()))\n",
    "    print(\"Median: \"+str(+scores.median()))\n",
    "    print(\"Min: \"+str(scores.min()))\n",
    "    print(\"Max: \"+str(scores.max()))"
   ]
  },
  {
   "cell_type": "code",
   "execution_count": 7,
   "metadata": {},
   "outputs": [],
   "source": [
    "def get_principle_from_metric(metric):\n",
    "    if metric.startswith(\"F\"):\n",
    "        return \"findable\"\n",
    "    elif metric.startswith(\"A\"):\n",
    "        return \"accessible\"\n",
    "    elif metric.startswith(\"I\"):\n",
    "        return \"interoperable\"\n",
    "    else:\n",
    "        return \"reusable\""
   ]
  },
  {
   "cell_type": "code",
   "execution_count": 18,
   "metadata": {},
   "outputs": [],
   "source": [
    "def adjust_metric_names(mname):\n",
    "    if mname == \"FA2a\":\n",
    "        return \"A2a\"\n",
    "    return mname"
   ]
  },
  {
   "attachments": {},
   "cell_type": "markdown",
   "metadata": {},
   "source": [
    "# Papers"
   ]
  },
  {
   "cell_type": "code",
   "execution_count": null,
   "metadata": {},
   "outputs": [],
   "source": [
    "def expand_paper_assessment_result(df):\n",
    "    df_exp = pd.DataFrame()\n",
    "    df_exp[\"paper\"] = list(chain.from_iterable([[x]*22 for x in df[\"comparisons\"]]))\n",
    "    try:\n",
    "        df_exp[\"doi\"] = list(chain.from_iterable([[x]*22 for x in df[\"doi\"]]))\n",
    "    except KeyError:\n",
    "        pass\n",
    "    df_exp[\"metric\"] = list(chain.from_iterable([get_metrics_from_result(assessment_result=x) for x in df[\"assessment_result\"]]))\n",
    "    df_exp[\"score\"] = list(chain.from_iterable([get_scores_from_result(assessment_result=x) for x in df[\"assessment_result\"]]))\n",
    "    df_exp = df_exp[[\"comparison\", \"doi\", \"metric\", \"score\"]]\n",
    "    return df_exp"
   ]
  },
  {
   "attachments": {},
   "cell_type": "markdown",
   "metadata": {},
   "source": [
    "## Papers via DOI"
   ]
  },
  {
   "attachments": {},
   "cell_type": "markdown",
   "metadata": {},
   "source": [
    "### Papers assessment via DOI"
   ]
  },
  {
   "cell_type": "code",
   "execution_count": null,
   "metadata": {},
   "outputs": [],
   "source": [
    "paper_doi_df = pd.read_csv(\"raw_data/orkg_papers_2023-03-29.csv\", index_col=0)\n",
    "paper_doi_df = paper_doi_df[paper_doi_df[\"doi\"].isna() == False].reset_index(drop=True)\n",
    "count = 0\n",
    "paper_doi_df[\"assessment_result\"] = paper_doi_df[\"doi\"].map(lambda x: get_assessment(url=\"https://doi.org/\" + x))\n",
    "paper_doi_df[\"assessment_result\"] = paper_doi_df[\"assessment_result\"].map(lambda x: get_metrics_and_scores(eval_result=x))\n",
    "paper_doi_df.to_csv(\"assessed_data/paper_doi_df_FES_assessment.csv\")\n",
    "paper_doi_df"
   ]
  },
  {
   "attachments": {},
   "cell_type": "markdown",
   "metadata": {},
   "source": [
    "### Papers evaluation via DOI + visualizations"
   ]
  },
  {
   "attachments": {},
   "cell_type": "markdown",
   "metadata": {},
   "source": [
    "## Papers via ORKG resource URL"
   ]
  },
  {
   "attachments": {},
   "cell_type": "markdown",
   "metadata": {},
   "source": [
    "### Papers assessment via ORKG resource URL"
   ]
  },
  {
   "attachments": {},
   "cell_type": "markdown",
   "metadata": {},
   "source": [
    "### Papers evaluation via ORKG resource URL + visualizations"
   ]
  },
  {
   "attachments": {},
   "cell_type": "markdown",
   "metadata": {},
   "source": [
    "## Papers via standard URL"
   ]
  },
  {
   "attachments": {},
   "cell_type": "markdown",
   "metadata": {},
   "source": [
    "### Papers assessment via standard URL"
   ]
  },
  {
   "attachments": {},
   "cell_type": "markdown",
   "metadata": {},
   "source": [
    "### Papers evaluation via standard URL + visualizations"
   ]
  },
  {
   "attachments": {},
   "cell_type": "markdown",
   "metadata": {},
   "source": [
    "# Comparisons"
   ]
  },
  {
   "cell_type": "code",
   "execution_count": 8,
   "metadata": {},
   "outputs": [],
   "source": [
    "def expand_comp_assessment_result(df):\n",
    "    df_exp = pd.DataFrame()\n",
    "    df_exp[\"comparison\"] = list(chain.from_iterable([[x]*22 for x in df[\"comparisons\"]]))\n",
    "    try:\n",
    "        df_exp[\"doi\"] = list(chain.from_iterable([[x]*22 for x in df[\"doi\"]]))\n",
    "    except KeyError:\n",
    "        pass\n",
    "    df_exp[\"metric\"] = list(chain.from_iterable([get_metrics_from_result(assessment_result=x) for x in df[\"assessment_result\"]]))\n",
    "    df_exp[\"score\"] = list(chain.from_iterable([get_scores_from_result(assessment_result=x) for x in df[\"assessment_result\"]]))\n",
    "    df_exp = df_exp[[\"comparison\", \"doi\", \"metric\", \"score\"]]\n",
    "    return df_exp"
   ]
  },
  {
   "attachments": {},
   "cell_type": "markdown",
   "metadata": {},
   "source": [
    "## Comparisons via DOI"
   ]
  },
  {
   "attachments": {},
   "cell_type": "markdown",
   "metadata": {},
   "source": [
    "### Comparisons assessment via DOI"
   ]
  },
  {
   "cell_type": "code",
   "execution_count": 9,
   "metadata": {},
   "outputs": [
    {
     "name": "stdout",
     "output_type": "stream",
     "text": [
      "Couldn't find program: 'false'\n"
     ]
    }
   ],
   "source": [
    "%%script false --no-raise-error\n",
    "comp_doi_df = pd.read_csv(\"raw_data/comparison_query_result_2023-03-29.csv\")\n",
    "comp_doi_df = comp_doi_df[comp_doi_df[\"doi\"].isna() == False].reset_index(drop=True)\n",
    "count = 0\n",
    "comp_doi_df[\"assessment_result\"] = comp_doi_df[\"doi\"].map(lambda x: get_assessment(url=\"https://doi.org/\" + x))\n",
    "comp_doi_df[\"assessment_result\"] = comp_doi_df[\"assessment_result\"].map(lambda x: get_metrics_and_scores(eval_result=x))\n",
    "comp_doi_df.to_csv(\"assessed_data/comparison_doi_df_FES_assessment.csv\")\n",
    "comp_doi_df"
   ]
  },
  {
   "attachments": {},
   "cell_type": "markdown",
   "metadata": {},
   "source": [
    "### Comparisons evaluation via DOI + visualizations"
   ]
  },
  {
   "cell_type": "code",
   "execution_count": 10,
   "metadata": {},
   "outputs": [
    {
     "data": {
      "text/html": [
       "<div>\n",
       "<style scoped>\n",
       "    .dataframe tbody tr th:only-of-type {\n",
       "        vertical-align: middle;\n",
       "    }\n",
       "\n",
       "    .dataframe tbody tr th {\n",
       "        vertical-align: top;\n",
       "    }\n",
       "\n",
       "    .dataframe thead th {\n",
       "        text-align: right;\n",
       "    }\n",
       "</style>\n",
       "<table border=\"1\" class=\"dataframe\">\n",
       "  <thead>\n",
       "    <tr style=\"text-align: right;\">\n",
       "      <th></th>\n",
       "      <th>comparison</th>\n",
       "      <th>doi</th>\n",
       "      <th>metric</th>\n",
       "      <th>score</th>\n",
       "    </tr>\n",
       "  </thead>\n",
       "  <tbody>\n",
       "    <tr>\n",
       "      <th>0</th>\n",
       "      <td>http://orkg.org/orkg/resource/R140347</td>\n",
       "      <td>10.48366/r140347</td>\n",
       "      <td>F1Aa</td>\n",
       "      <td>1</td>\n",
       "    </tr>\n",
       "    <tr>\n",
       "      <th>1</th>\n",
       "      <td>http://orkg.org/orkg/resource/R140347</td>\n",
       "      <td>10.48366/r140347</td>\n",
       "      <td>F1Ba</td>\n",
       "      <td>1</td>\n",
       "    </tr>\n",
       "    <tr>\n",
       "      <th>2</th>\n",
       "      <td>http://orkg.org/orkg/resource/R140347</td>\n",
       "      <td>10.48366/r140347</td>\n",
       "      <td>F1Bb</td>\n",
       "      <td>0</td>\n",
       "    </tr>\n",
       "    <tr>\n",
       "      <th>3</th>\n",
       "      <td>http://orkg.org/orkg/resource/R140347</td>\n",
       "      <td>10.48366/r140347</td>\n",
       "      <td>F2Aa</td>\n",
       "      <td>1</td>\n",
       "    </tr>\n",
       "    <tr>\n",
       "      <th>4</th>\n",
       "      <td>http://orkg.org/orkg/resource/R140347</td>\n",
       "      <td>10.48366/r140347</td>\n",
       "      <td>F2Ba</td>\n",
       "      <td>1</td>\n",
       "    </tr>\n",
       "    <tr>\n",
       "      <th>...</th>\n",
       "      <td>...</td>\n",
       "      <td>...</td>\n",
       "      <td>...</td>\n",
       "      <td>...</td>\n",
       "    </tr>\n",
       "    <tr>\n",
       "      <th>6463</th>\n",
       "      <td>http://orkg.org/orkg/resource/R576876</td>\n",
       "      <td>10.48366/r576876</td>\n",
       "      <td>I2Aa</td>\n",
       "      <td>1</td>\n",
       "    </tr>\n",
       "    <tr>\n",
       "      <th>6464</th>\n",
       "      <td>http://orkg.org/orkg/resource/R576876</td>\n",
       "      <td>10.48366/r576876</td>\n",
       "      <td>I2Ba</td>\n",
       "      <td>0</td>\n",
       "    </tr>\n",
       "    <tr>\n",
       "      <th>6465</th>\n",
       "      <td>http://orkg.org/orkg/resource/R576876</td>\n",
       "      <td>10.48366/r576876</td>\n",
       "      <td>I3Aa</td>\n",
       "      <td>1</td>\n",
       "    </tr>\n",
       "    <tr>\n",
       "      <th>6466</th>\n",
       "      <td>http://orkg.org/orkg/resource/R576876</td>\n",
       "      <td>10.48366/r576876</td>\n",
       "      <td>R1.1a</td>\n",
       "      <td>0</td>\n",
       "    </tr>\n",
       "    <tr>\n",
       "      <th>6467</th>\n",
       "      <td>http://orkg.org/orkg/resource/R576876</td>\n",
       "      <td>10.48366/r576876</td>\n",
       "      <td>R1.1b</td>\n",
       "      <td>1</td>\n",
       "    </tr>\n",
       "  </tbody>\n",
       "</table>\n",
       "<p>6468 rows × 4 columns</p>\n",
       "</div>"
      ],
      "text/plain": [
       "                                 comparison               doi metric  score\n",
       "0     http://orkg.org/orkg/resource/R140347  10.48366/r140347   F1Aa      1\n",
       "1     http://orkg.org/orkg/resource/R140347  10.48366/r140347   F1Ba      1\n",
       "2     http://orkg.org/orkg/resource/R140347  10.48366/r140347   F1Bb      0\n",
       "3     http://orkg.org/orkg/resource/R140347  10.48366/r140347   F2Aa      1\n",
       "4     http://orkg.org/orkg/resource/R140347  10.48366/r140347   F2Ba      1\n",
       "...                                     ...               ...    ...    ...\n",
       "6463  http://orkg.org/orkg/resource/R576876  10.48366/r576876   I2Aa      1\n",
       "6464  http://orkg.org/orkg/resource/R576876  10.48366/r576876   I2Ba      0\n",
       "6465  http://orkg.org/orkg/resource/R576876  10.48366/r576876   I3Aa      1\n",
       "6466  http://orkg.org/orkg/resource/R576876  10.48366/r576876  R1.1a      0\n",
       "6467  http://orkg.org/orkg/resource/R576876  10.48366/r576876  R1.1b      1\n",
       "\n",
       "[6468 rows x 4 columns]"
      ]
     },
     "execution_count": 10,
     "metadata": {},
     "output_type": "execute_result"
    }
   ],
   "source": [
    "comp_doi_df = pd.read_csv(\"assessed_data/comparison_doi_df_FES_assessment.csv\", index_col=0)\n",
    "comp_doi_df[\"assessment_result\"] = comp_doi_df[\"assessment_result\"].map(lambda x: x.replace(\"\\'\", \"\\\"\"))\n",
    "comp_doi_df[\"assessment_result\"] = comp_doi_df[\"assessment_result\"].map(lambda x: json.loads(x))\n",
    "comp_doi_df_assessed = expand_comp_assessment_result(comp_doi_df)\n",
    "comp_doi_df_assessed[\"metric\"] = comp_doi_df_assessed[\"metric\"].map(lambda x: adjust_metric_names(x))\n",
    "comp_doi_df_assessed"
   ]
  },
  {
   "cell_type": "code",
   "execution_count": 11,
   "metadata": {},
   "outputs": [
    {
     "name": "stdout",
     "output_type": "stream",
     "text": [
      "Mean: 11.0\n",
      "Median: 11.0\n",
      "Min: 11\n",
      "Max: 11\n"
     ]
    }
   ],
   "source": [
    "comp_doi_df_total = comp_doi_df_assessed.groupby(\"comparison\").agg({\"score\": \"sum\"}).reset_index()\n",
    "print_summary_stats(comp_doi_df_total[\"score\"])"
   ]
  },
  {
   "cell_type": "code",
   "execution_count": 12,
   "metadata": {},
   "outputs": [
    {
     "data": {
      "text/html": [
       "<div>\n",
       "<style scoped>\n",
       "    .dataframe tbody tr th:only-of-type {\n",
       "        vertical-align: middle;\n",
       "    }\n",
       "\n",
       "    .dataframe tbody tr th {\n",
       "        vertical-align: top;\n",
       "    }\n",
       "\n",
       "    .dataframe thead th {\n",
       "        text-align: right;\n",
       "    }\n",
       "</style>\n",
       "<table border=\"1\" class=\"dataframe\">\n",
       "  <thead>\n",
       "    <tr style=\"text-align: right;\">\n",
       "      <th></th>\n",
       "      <th>principle</th>\n",
       "      <th>score</th>\n",
       "      <th>avg_score</th>\n",
       "    </tr>\n",
       "  </thead>\n",
       "  <tbody>\n",
       "    <tr>\n",
       "      <th>1</th>\n",
       "      <td>findable</td>\n",
       "      <td>1176</td>\n",
       "      <td>4.0</td>\n",
       "    </tr>\n",
       "    <tr>\n",
       "      <th>0</th>\n",
       "      <td>accessible</td>\n",
       "      <td>588</td>\n",
       "      <td>2.0</td>\n",
       "    </tr>\n",
       "    <tr>\n",
       "      <th>2</th>\n",
       "      <td>interoperable</td>\n",
       "      <td>1176</td>\n",
       "      <td>4.0</td>\n",
       "    </tr>\n",
       "    <tr>\n",
       "      <th>3</th>\n",
       "      <td>reusable</td>\n",
       "      <td>294</td>\n",
       "      <td>1.0</td>\n",
       "    </tr>\n",
       "  </tbody>\n",
       "</table>\n",
       "</div>"
      ],
      "text/plain": [
       "       principle  score  avg_score\n",
       "1       findable   1176        4.0\n",
       "0     accessible    588        2.0\n",
       "2  interoperable   1176        4.0\n",
       "3       reusable    294        1.0"
      ]
     },
     "execution_count": 12,
     "metadata": {},
     "output_type": "execute_result"
    }
   ],
   "source": [
    "comp_doi_df_principle = comp_doi_df_assessed\n",
    "comp_doi_df_principle[\"principle\"] = comp_doi_df_principle[\"metric\"].map(lambda x: get_principle_from_metric(x))\n",
    "comp_doi_df_principle = comp_doi_df_principle.groupby(\"principle\").agg({\"score\": \"sum\"}).reset_index()\n",
    "comp_doi_df_principle[\"avg_score\"] = comp_doi_df_principle[\"score\"]/len(comp_doi_df_total)\n",
    "comp_doi_df_principle['principle'] = pd.Categorical(comp_doi_df_principle['principle'], ['findable', 'accessible', 'interoperable', 'reusable'])\n",
    "comp_doi_df_principle = comp_doi_df_principle.sort_values('principle')\n",
    "comp_doi_df_principle"
   ]
  },
  {
   "cell_type": "code",
   "execution_count": 13,
   "metadata": {},
   "outputs": [
    {
     "data": {
      "image/png": "[encoded data removed]",
      "text/plain": [
       "<Figure size 640x480 with 1 Axes>"
      ]
     },
     "metadata": {},
     "output_type": "display_data"
    }
   ],
   "source": [
    "#plotting\n",
    "width = 0.5\n",
    "perfect_scores = [8, 5, 7, 2]\n",
    "actual_scores = comp_doi_df_principle['avg_score']\n",
    "indices = np.arange(len(perfect_scores))\n",
    "\n",
    "plt.bar(indices, perfect_scores, width=width, color='b', alpha=0.5, label='Perfect Score')\n",
    "plt.bar([i for i in indices], actual_scores, width=0.5*width, color='orange', label='Average Score')\n",
    "plt.xticks(indices, comp_doi_df_principle['principle'] )\n",
    "plt.title(\"Average score for FAIR principles - Comparison DOI assessment\")\n",
    "plt.legend()\n",
    "plt.show()"
   ]
  },
  {
   "cell_type": "code",
   "execution_count": 14,
   "metadata": {},
   "outputs": [
    {
     "data": {
      "image/png": "[encoded data removed]",
      "text/plain": [
       "<Figure size 640x480 with 1 Axes>"
      ]
     },
     "metadata": {},
     "output_type": "display_data"
    }
   ],
   "source": [
    "metric_assessment_doi_df = comp_doi_df_assessed\n",
    "aggregate_funcs = {\"score\": \"sum\"}\n",
    "metric_assessment_doi_df = metric_assessment_doi_df.groupby(\"metric\").agg(aggregate_funcs).reset_index()\n",
    "metric_assessment_doi_df[\"score\"] = metric_assessment_doi_df[\"score\"]\n",
    "\n",
    "metric_assessment_doi_df['metric'] = pd.Categorical(metric_assessment_doi_df['metric'], [\"F1Aa\", \"F1Ba\", \"F1Bb\", \"F2Aa\", \"F2Ba\", \"F3a\", \"F3b\", \"F4a\", \"A1.1a\", \"A1.1b\", \"A1.2a\", \"A1.2b\", \"A2a\", \"I1Aa\", \"I1Ba\", \"I1Ab\", \"I1Bb\", \"I2Aa\", \"I2Ba\", \"I3Aa\", \"R1.1a\", \"R1.1b\"])\n",
    "metric_assessment_doi_df = metric_assessment_doi_df.sort_values('metric')\n",
    "\n",
    "metric_assessment_doi_df[\"score\"].plot(kind=\"bar\")\n",
    "locs, labels = plt.xticks()\n",
    "plt.xticks(locs, [\"F1Aa\", \"F1Ba\", \"F1Bb\", \"F2Aa\", \"F2Ba\", \"F3a\", \"F3b\", \"F4a\", \"A1.1a\", \"A1.1b\", \"A1.2a\", \"A1.2b\", \"A2a\", \"I1Aa\", \"I1Ba\", \"I1Ab\", \"I1Bb\", \"I2Aa\", \"I2Ba\", \"I3Aa\", \"R1.1a\", \"R1.1b\"])\n",
    "plt.title(\"FAIR-Checker metrics passed by comparisons (DOI assessment)\")\n",
    "plt.ylabel(\"#comparisons that passed the metric\")\n",
    "plt.xlabel(\"FAIR-Checker metrics\")\n",
    "plt.show()"
   ]
  },
  {
   "attachments": {},
   "cell_type": "markdown",
   "metadata": {},
   "source": [
    "## Comparisons via ORKG URL"
   ]
  },
  {
   "attachments": {},
   "cell_type": "markdown",
   "metadata": {},
   "source": [
    "### Comparison assessment via ORKG resource URL"
   ]
  },
  {
   "cell_type": "code",
   "execution_count": 15,
   "metadata": {},
   "outputs": [
    {
     "name": "stdout",
     "output_type": "stream",
     "text": [
      "Couldn't find program: 'false'\n"
     ]
    }
   ],
   "source": [
    "%%script false --no-raise-error\n",
    "comp_url_df = pd.read_csv(\"raw_data/comparison_query_result_2023-03-29.csv\")\n",
    "count = 0\n",
    "comp_url_df[\"assessment_result\"] = comp_url_df[\"comparisons\"].map(lambda x: get_assessment(url=x))\n",
    "comp_url_df[\"assessment_result\"] = comp_url_df[\"assessment_result\"].map(lambda x: get_metrics_and_scores(eval_result=x))\n",
    "comp_url_df.to_csv(\"assessed_data/comparison_url_df_FES_assessment.csv\")\n",
    "comp_url_df"
   ]
  },
  {
   "attachments": {},
   "cell_type": "markdown",
   "metadata": {},
   "source": [
    "### Comparison evaluation via ORKG resource URL"
   ]
  },
  {
   "cell_type": "code",
   "execution_count": 19,
   "metadata": {},
   "outputs": [
    {
     "data": {
      "text/html": [
       "<div>\n",
       "<style scoped>\n",
       "    .dataframe tbody tr th:only-of-type {\n",
       "        vertical-align: middle;\n",
       "    }\n",
       "\n",
       "    .dataframe tbody tr th {\n",
       "        vertical-align: top;\n",
       "    }\n",
       "\n",
       "    .dataframe thead th {\n",
       "        text-align: right;\n",
       "    }\n",
       "</style>\n",
       "<table border=\"1\" class=\"dataframe\">\n",
       "  <thead>\n",
       "    <tr style=\"text-align: right;\">\n",
       "      <th></th>\n",
       "      <th>comparison</th>\n",
       "      <th>doi</th>\n",
       "      <th>metric</th>\n",
       "      <th>score</th>\n",
       "    </tr>\n",
       "  </thead>\n",
       "  <tbody>\n",
       "    <tr>\n",
       "      <th>0</th>\n",
       "      <td>http://orkg.org/orkg/resource/R140347</td>\n",
       "      <td>10.48366/r140347</td>\n",
       "      <td>F1Aa</td>\n",
       "      <td>1</td>\n",
       "    </tr>\n",
       "    <tr>\n",
       "      <th>1</th>\n",
       "      <td>http://orkg.org/orkg/resource/R140347</td>\n",
       "      <td>10.48366/r140347</td>\n",
       "      <td>F1Ba</td>\n",
       "      <td>0</td>\n",
       "    </tr>\n",
       "    <tr>\n",
       "      <th>2</th>\n",
       "      <td>http://orkg.org/orkg/resource/R140347</td>\n",
       "      <td>10.48366/r140347</td>\n",
       "      <td>F1Bb</td>\n",
       "      <td>0</td>\n",
       "    </tr>\n",
       "    <tr>\n",
       "      <th>3</th>\n",
       "      <td>http://orkg.org/orkg/resource/R140347</td>\n",
       "      <td>10.48366/r140347</td>\n",
       "      <td>F2Aa</td>\n",
       "      <td>1</td>\n",
       "    </tr>\n",
       "    <tr>\n",
       "      <th>4</th>\n",
       "      <td>http://orkg.org/orkg/resource/R140347</td>\n",
       "      <td>10.48366/r140347</td>\n",
       "      <td>F2Ba</td>\n",
       "      <td>1</td>\n",
       "    </tr>\n",
       "    <tr>\n",
       "      <th>...</th>\n",
       "      <td>...</td>\n",
       "      <td>...</td>\n",
       "      <td>...</td>\n",
       "      <td>...</td>\n",
       "    </tr>\n",
       "    <tr>\n",
       "      <th>25273</th>\n",
       "      <td>http://orkg.org/orkg/resource/R288673</td>\n",
       "      <td>NaN</td>\n",
       "      <td>I2Aa</td>\n",
       "      <td>0</td>\n",
       "    </tr>\n",
       "    <tr>\n",
       "      <th>25274</th>\n",
       "      <td>http://orkg.org/orkg/resource/R288673</td>\n",
       "      <td>NaN</td>\n",
       "      <td>I2Ba</td>\n",
       "      <td>0</td>\n",
       "    </tr>\n",
       "    <tr>\n",
       "      <th>25275</th>\n",
       "      <td>http://orkg.org/orkg/resource/R288673</td>\n",
       "      <td>NaN</td>\n",
       "      <td>I3Aa</td>\n",
       "      <td>0</td>\n",
       "    </tr>\n",
       "    <tr>\n",
       "      <th>25276</th>\n",
       "      <td>http://orkg.org/orkg/resource/R288673</td>\n",
       "      <td>NaN</td>\n",
       "      <td>R1.1a</td>\n",
       "      <td>0</td>\n",
       "    </tr>\n",
       "    <tr>\n",
       "      <th>25277</th>\n",
       "      <td>http://orkg.org/orkg/resource/R288673</td>\n",
       "      <td>NaN</td>\n",
       "      <td>R1.1b</td>\n",
       "      <td>0</td>\n",
       "    </tr>\n",
       "  </tbody>\n",
       "</table>\n",
       "<p>25278 rows × 4 columns</p>\n",
       "</div>"
      ],
      "text/plain": [
       "                                  comparison               doi metric  score\n",
       "0      http://orkg.org/orkg/resource/R140347  10.48366/r140347   F1Aa      1\n",
       "1      http://orkg.org/orkg/resource/R140347  10.48366/r140347   F1Ba      0\n",
       "2      http://orkg.org/orkg/resource/R140347  10.48366/r140347   F1Bb      0\n",
       "3      http://orkg.org/orkg/resource/R140347  10.48366/r140347   F2Aa      1\n",
       "4      http://orkg.org/orkg/resource/R140347  10.48366/r140347   F2Ba      1\n",
       "...                                      ...               ...    ...    ...\n",
       "25273  http://orkg.org/orkg/resource/R288673               NaN   I2Aa      0\n",
       "25274  http://orkg.org/orkg/resource/R288673               NaN   I2Ba      0\n",
       "25275  http://orkg.org/orkg/resource/R288673               NaN   I3Aa      0\n",
       "25276  http://orkg.org/orkg/resource/R288673               NaN  R1.1a      0\n",
       "25277  http://orkg.org/orkg/resource/R288673               NaN  R1.1b      0\n",
       "\n",
       "[25278 rows x 4 columns]"
      ]
     },
     "execution_count": 19,
     "metadata": {},
     "output_type": "execute_result"
    }
   ],
   "source": [
    "comp_url_df = pd.read_csv(\"assessed_data/comparison_url_df_FES_assessment.csv\", index_col=0)\n",
    "comp_url_df[\"assessment_result\"] = comp_url_df[\"assessment_result\"].map(lambda x: x.replace(\"\\'\", \"\\\"\"))\n",
    "comp_url_df[\"assessment_result\"] = comp_url_df[\"assessment_result\"].map(lambda x: json.loads(x))\n",
    "comp_url_df_assessed = expand_comp_assessment_result(comp_url_df)\n",
    "comp_url_df_assessed[\"metric\"] = comp_url_df_assessed[\"metric\"].map(lambda x: adjust_metric_names(x))\n",
    "comp_url_df_assessed"
   ]
  },
  {
   "cell_type": "code",
   "execution_count": 21,
   "metadata": {},
   "outputs": [
    {
     "name": "stdout",
     "output_type": "stream",
     "text": [
      "Mean: 7.0\n",
      "Median: 7.0\n",
      "Min: 7\n",
      "Max: 7\n"
     ]
    }
   ],
   "source": [
    "comp_url_df_total = comp_url_df_assessed.groupby(\"comparison\").agg({\"score\": \"sum\"}).reset_index()\n",
    "print_summary_stats(comp_url_df_total[\"score\"])"
   ]
  },
  {
   "cell_type": "code",
   "execution_count": 22,
   "metadata": {},
   "outputs": [
    {
     "data": {
      "text/html": [
       "<div>\n",
       "<style scoped>\n",
       "    .dataframe tbody tr th:only-of-type {\n",
       "        vertical-align: middle;\n",
       "    }\n",
       "\n",
       "    .dataframe tbody tr th {\n",
       "        vertical-align: top;\n",
       "    }\n",
       "\n",
       "    .dataframe thead th {\n",
       "        text-align: right;\n",
       "    }\n",
       "</style>\n",
       "<table border=\"1\" class=\"dataframe\">\n",
       "  <thead>\n",
       "    <tr style=\"text-align: right;\">\n",
       "      <th></th>\n",
       "      <th>principle</th>\n",
       "      <th>score</th>\n",
       "      <th>avg_score</th>\n",
       "    </tr>\n",
       "  </thead>\n",
       "  <tbody>\n",
       "    <tr>\n",
       "      <th>1</th>\n",
       "      <td>findable</td>\n",
       "      <td>3447</td>\n",
       "      <td>3.0</td>\n",
       "    </tr>\n",
       "    <tr>\n",
       "      <th>0</th>\n",
       "      <td>accessible</td>\n",
       "      <td>2298</td>\n",
       "      <td>2.0</td>\n",
       "    </tr>\n",
       "    <tr>\n",
       "      <th>2</th>\n",
       "      <td>interoperable</td>\n",
       "      <td>2298</td>\n",
       "      <td>2.0</td>\n",
       "    </tr>\n",
       "    <tr>\n",
       "      <th>3</th>\n",
       "      <td>reusable</td>\n",
       "      <td>0</td>\n",
       "      <td>0.0</td>\n",
       "    </tr>\n",
       "  </tbody>\n",
       "</table>\n",
       "</div>"
      ],
      "text/plain": [
       "       principle  score  avg_score\n",
       "1       findable   3447        3.0\n",
       "0     accessible   2298        2.0\n",
       "2  interoperable   2298        2.0\n",
       "3       reusable      0        0.0"
      ]
     },
     "execution_count": 22,
     "metadata": {},
     "output_type": "execute_result"
    }
   ],
   "source": [
    "comp_url_df_principle = comp_url_df_assessed\n",
    "comp_url_df_principle[\"principle\"] = comp_url_df_principle[\"metric\"].map(lambda x: get_principle_from_metric(x))\n",
    "comp_url_df_principle = comp_url_df_principle.groupby(\"principle\").agg({\"score\": \"sum\"}).reset_index()\n",
    "comp_url_df_principle[\"avg_score\"] = comp_url_df_principle[\"score\"]/len(comp_url_df_total)\n",
    "comp_url_df_principle['principle'] = pd.Categorical(comp_url_df_principle['principle'], ['findable', 'accessible', 'interoperable', 'reusable'])\n",
    "comp_url_df_principle = comp_url_df_principle.sort_values('principle')\n",
    "comp_url_df_principle"
   ]
  },
  {
   "cell_type": "code",
   "execution_count": 23,
   "metadata": {},
   "outputs": [
    {
     "data": {
      "image/png": "[encoded data removed]",
      "text/plain": [
       "<Figure size 640x480 with 1 Axes>"
      ]
     },
     "metadata": {},
     "output_type": "display_data"
    }
   ],
   "source": [
    "#plotting\n",
    "width = 0.5\n",
    "perfect_scores = [8, 5, 7, 2]\n",
    "actual_scores = comp_url_df_principle['avg_score']\n",
    "indices = np.arange(len(perfect_scores))\n",
    "\n",
    "plt.bar(indices, perfect_scores, width=width, color='b', alpha=0.5, label='Perfect Score')\n",
    "plt.bar([i for i in indices], actual_scores, width=0.5*width, color='orange', label='Average Score')\n",
    "plt.xticks(indices, comp_url_df_principle['principle'] )\n",
    "plt.title(\"Average score for FAIR principles - Comparison DOI assessment\")\n",
    "plt.legend()\n",
    "plt.show()"
   ]
  },
  {
   "cell_type": "code",
   "execution_count": 24,
   "metadata": {},
   "outputs": [
    {
     "data": {
      "image/png": "[encoded data removed]",
      "text/plain": [
       "<Figure size 640x480 with 1 Axes>"
      ]
     },
     "metadata": {},
     "output_type": "display_data"
    }
   ],
   "source": [
    "metric_assessment_url_df = comp_url_df_assessed\n",
    "aggregate_funcs = {\"score\": \"sum\"}\n",
    "metric_assessment_url_df = metric_assessment_url_df.groupby(\"metric\").agg(aggregate_funcs).reset_index()\n",
    "metric_assessment_url_df[\"score\"] = metric_assessment_url_df[\"score\"]\n",
    "\n",
    "metric_assessment_url_df['metric'] = pd.Categorical(metric_assessment_url_df['metric'], [\"F1Aa\", \"F1Ba\", \"F1Bb\", \"F2Aa\", \"F2Ba\", \"F3a\", \"F3b\", \"F4a\", \"A1.1a\", \"A1.1b\", \"A1.2a\", \"A1.2b\", \"A2a\", \"I1Aa\", \"I1Ba\", \"I1Ab\", \"I1Bb\", \"I2Aa\", \"I2Ba\", \"I3Aa\", \"R1.1a\", \"R1.1b\"])\n",
    "metric_assessment_url_df = metric_assessment_url_df.sort_values('metric')\n",
    "\n",
    "metric_assessment_url_df[\"score\"].plot(kind=\"bar\")\n",
    "locs, labels = plt.xticks()\n",
    "plt.xticks(locs, [\"F1Aa\", \"F1Ba\", \"F1Bb\", \"F2Aa\", \"F2Ba\", \"F3a\", \"F3b\", \"F4a\", \"A1.1a\", \"A1.1b\", \"A1.2a\", \"A1.2b\", \"A2a\", \"I1Aa\", \"I1Ba\", \"I1Ab\", \"I1Bb\", \"I2Aa\", \"I2Ba\", \"I3Aa\", \"R1.1a\", \"R1.1b\"])\n",
    "plt.title(\"FAIR-Checker metrics passed by comparisons (DOI assessment)\")\n",
    "plt.ylabel(\"#comparisons that passed the metric\")\n",
    "plt.xlabel(\"FAIR-Checker metrics\")\n",
    "plt.show()"
   ]
  },
  {
   "attachments": {},
   "cell_type": "markdown",
   "metadata": {},
   "source": [
    "# Resources"
   ]
  }
 ],
 "metadata": {
  "kernelspec": {
   "display_name": "fairenv",
   "language": "python",
   "name": "python3"
  },
  "language_info": {
   "codemirror_mode": {
    "name": "ipython",
    "version": 3
   },
   "file_extension": ".py",
   "mimetype": "text/x-python",
   "name": "python",
   "nbconvert_exporter": "python",
   "pygments_lexer": "ipython3",
   "version": "3.8.16"
  },
  "orig_nbformat": 4
 },
 "nbformat": 4,
 "nbformat_minor": 2
}
